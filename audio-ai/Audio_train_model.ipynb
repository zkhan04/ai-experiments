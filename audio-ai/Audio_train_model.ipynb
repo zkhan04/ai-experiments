{
  "nbformat": 4,
  "nbformat_minor": 0,
  "metadata": {
    "colab": {
      "name": "Audio train model",
      "provenance": [],
      "collapsed_sections": [],
      "authorship_tag": "ABX9TyMp4f1md2iiTp917RCbUxSq",
      "include_colab_link": true
    },
    "kernelspec": {
      "name": "python3",
      "display_name": "Python 3"
    }
  },
  "cells": [
    {
      "cell_type": "markdown",
      "metadata": {
        "id": "view-in-github",
        "colab_type": "text"
      },
      "source": [
        "<a href=\"https://colab.research.google.com/github/zkhan04/ai-experiments/blob/master/audio-ai/Audio_train_model.ipynb\" target=\"_parent\"><img src=\"https://colab.research.google.com/assets/colab-badge.svg\" alt=\"Open In Colab\"/></a>"
      ]
    },
    {
      "cell_type": "code",
      "metadata": {
        "id": "qmAXFKKTDoP1",
        "colab_type": "code",
        "colab": {
          "base_uri": "https://localhost:8080/",
          "height": 34
        },
        "outputId": "4b249e9a-02d6-4dcb-b385-f8e230a3c3f1"
      },
      "source": [
        "from google.colab import drive\n",
        "drive.mount('/content/gdrive')"
      ],
      "execution_count": null,
      "outputs": [
        {
          "output_type": "stream",
          "text": [
            "Mounted at /content/gdrive\n"
          ],
          "name": "stdout"
        }
      ]
    },
    {
      "cell_type": "code",
      "metadata": {
        "id": "YL9ZWRhQEFrI",
        "colab_type": "code",
        "colab": {}
      },
      "source": [
        "%matplotlib inline\n",
        "import matplotlib.pyplot as plt\n",
        "import numpy as np\n",
        "import pandas as pd\n",
        "import os"
      ],
      "execution_count": null,
      "outputs": []
    },
    {
      "cell_type": "code",
      "metadata": {
        "id": "Ed5pdKiSEZAh",
        "colab_type": "code",
        "colab": {}
      },
      "source": [
        "BASEDIR = '/content/gdrive/My Drive/Colab Data/audio'"
      ],
      "execution_count": null,
      "outputs": []
    },
    {
      "cell_type": "code",
      "metadata": {
        "id": "EvodCn7OFHzA",
        "colab_type": "code",
        "colab": {}
      },
      "source": [
        "featuresdf = pd.read_pickle(os.path.join(BASEDIR, 'zayd_data.pkl'))"
      ],
      "execution_count": null,
      "outputs": []
    },
    {
      "cell_type": "code",
      "metadata": {
        "id": "VZFC4GbbFY8e",
        "colab_type": "code",
        "colab": {
          "base_uri": "https://localhost:8080/",
          "height": 34
        },
        "outputId": "8bc0c08c-465b-44c7-82ac-6c5397c52063"
      },
      "source": [
        "featuresdf.shape"
      ],
      "execution_count": null,
      "outputs": [
        {
          "output_type": "execute_result",
          "data": {
            "text/plain": [
              "(199, 2)"
            ]
          },
          "metadata": {
            "tags": []
          },
          "execution_count": 9
        }
      ]
    },
    {
      "cell_type": "code",
      "metadata": {
        "id": "7ljUQSLTFc7z",
        "colab_type": "code",
        "colab": {
          "base_uri": "https://localhost:8080/",
          "height": 204
        },
        "outputId": "4d20204e-8ebd-47eb-a513-839239fb8d9f"
      },
      "source": [
        "featuresdf.head()"
      ],
      "execution_count": null,
      "outputs": [
        {
          "output_type": "execute_result",
          "data": {
            "text/html": [
              "<div>\n",
              "<style scoped>\n",
              "    .dataframe tbody tr th:only-of-type {\n",
              "        vertical-align: middle;\n",
              "    }\n",
              "\n",
              "    .dataframe tbody tr th {\n",
              "        vertical-align: top;\n",
              "    }\n",
              "\n",
              "    .dataframe thead th {\n",
              "        text-align: right;\n",
              "    }\n",
              "</style>\n",
              "<table border=\"1\" class=\"dataframe\">\n",
              "  <thead>\n",
              "    <tr style=\"text-align: right;\">\n",
              "      <th></th>\n",
              "      <th>feature</th>\n",
              "      <th>class_label</th>\n",
              "    </tr>\n",
              "  </thead>\n",
              "  <tbody>\n",
              "    <tr>\n",
              "      <th>0</th>\n",
              "      <td>[-349.6761883061811, 77.97523127033531, -39.60...</td>\n",
              "      <td>true</td>\n",
              "    </tr>\n",
              "    <tr>\n",
              "      <th>1</th>\n",
              "      <td>[-162.9719763103223, 14.484394950908994, -8.11...</td>\n",
              "      <td>true</td>\n",
              "    </tr>\n",
              "    <tr>\n",
              "      <th>2</th>\n",
              "      <td>[-123.59541613826386, 14.752998048912946, -7.2...</td>\n",
              "      <td>true</td>\n",
              "    </tr>\n",
              "    <tr>\n",
              "      <th>3</th>\n",
              "      <td>[-224.82055260907148, 51.0820508547996, -3.274...</td>\n",
              "      <td>true</td>\n",
              "    </tr>\n",
              "    <tr>\n",
              "      <th>4</th>\n",
              "      <td>[-157.86453794559563, 35.08948012718332, -10.6...</td>\n",
              "      <td>true</td>\n",
              "    </tr>\n",
              "  </tbody>\n",
              "</table>\n",
              "</div>"
            ],
            "text/plain": [
              "                                             feature class_label\n",
              "0  [-349.6761883061811, 77.97523127033531, -39.60...        true\n",
              "1  [-162.9719763103223, 14.484394950908994, -8.11...        true\n",
              "2  [-123.59541613826386, 14.752998048912946, -7.2...        true\n",
              "3  [-224.82055260907148, 51.0820508547996, -3.274...        true\n",
              "4  [-157.86453794559563, 35.08948012718332, -10.6...        true"
            ]
          },
          "metadata": {
            "tags": []
          },
          "execution_count": 10
        }
      ]
    },
    {
      "cell_type": "code",
      "metadata": {
        "id": "hdJsYFr192mG",
        "colab_type": "code",
        "colab": {}
      },
      "source": [
        "import torch"
      ],
      "execution_count": null,
      "outputs": []
    },
    {
      "cell_type": "code",
      "metadata": {
        "id": "isFMr8IO-AIu",
        "colab_type": "code",
        "colab": {}
      },
      "source": [
        "# Get dataset ready for training\n",
        "# Split the dataset into 70% train data and 30% test data"
      ],
      "execution_count": null,
      "outputs": []
    },
    {
      "cell_type": "code",
      "metadata": {
        "id": "Ew-65ykSGDj0",
        "colab_type": "code",
        "colab": {}
      },
      "source": [
        "from torch.utils.data import Dataset, DataLoader"
      ],
      "execution_count": null,
      "outputs": []
    },
    {
      "cell_type": "code",
      "metadata": {
        "id": "7xkbGpYrKoPJ",
        "colab_type": "code",
        "colab": {}
      },
      "source": [
        "# Create a custom dataset. This audio dataset takes in a Pandas dataframe \n",
        "# as an input. The first element of the Pandas dataframe is an array of 40 \n",
        "# elements that we generated using librosa MFCC function on each of our audio\n",
        "# files. The second column of the dataframe is a label - true or false\n",
        "class AudioDataSet(Dataset):\n",
        "  def __init__(self, df):\n",
        "    self.audio_df = df\n",
        "\n",
        "  def __len__(self):\n",
        "    return self.audio_df.shape[0]\n",
        "\n",
        "  def __getitem__(self, idx):\n",
        "    audio_vector = torch.FloatTensor(self.audio_df.iloc[idx,0])\n",
        "    audio_label = self.audio_df.iloc[idx,1]\n",
        "    if audio_label == 'true':\n",
        "      audio_label = torch.tensor(1)\n",
        "    else:\n",
        "      audio_label = torch.tensor(0)\n",
        "\n",
        "    return audio_vector, audio_label"
      ],
      "execution_count": null,
      "outputs": []
    },
    {
      "cell_type": "code",
      "metadata": {
        "id": "A3kHUd7pLh4K",
        "colab_type": "code",
        "colab": {}
      },
      "source": [
        "# Generate the audio dataset and split it into 70/30 train and validation\n",
        "# dataset\n",
        "audio_dataset = AudioDataSet(featuresdf)\n",
        "train_percent = 0.7\n",
        "train_len = int(len(audio_dataset) * train_percent)\n",
        "valid_len = len(audio_dataset) - train_len\n",
        "train_set, validation_set = torch.utils.data.random_split(audio_dataset,\n",
        "                                                          [train_len, valid_len])"
      ],
      "execution_count": null,
      "outputs": []
    },
    {
      "cell_type": "code",
      "metadata": {
        "id": "6FICEk3BL-Ki",
        "colab_type": "code",
        "colab": {}
      },
      "source": [
        "# Create the train and test loader\n",
        "trainloader = DataLoader(train_set, batch_size=4, shuffle=True, num_workers=0)\n",
        "testloader = DataLoader(validation_set, batch_size=4, shuffle=True, num_workers=0)"
      ],
      "execution_count": null,
      "outputs": []
    },
    {
      "cell_type": "code",
      "metadata": {
        "id": "OdQLeDwvNF1X",
        "colab_type": "code",
        "colab": {
          "base_uri": "https://localhost:8080/",
          "height": 595
        },
        "outputId": "0fb2e266-c400-4c70-f4e5-fb591ff3e504"
      },
      "source": [
        "# Check one batch from train loader\n",
        "dataiter = iter(trainloader)\n",
        "audio, label = dataiter.next()\n",
        "print(audio)\n",
        "print(label)\n",
        "print(audio.shape)"
      ],
      "execution_count": null,
      "outputs": [
        {
          "output_type": "stream",
          "text": [
            "tensor([[-5.1147e+02,  9.9563e+01,  2.3002e+00,  3.8539e+01,  3.4623e+00,\n",
            "          2.7156e+01, -1.4997e+00,  2.2119e+01, -5.9600e+00,  1.4949e+01,\n",
            "         -7.0596e+00,  1.3390e+01, -6.1095e+00,  1.0134e+01, -5.6442e+00,\n",
            "          8.3926e+00, -4.7463e+00,  6.7568e+00, -2.9155e+00,  5.1840e+00,\n",
            "         -3.3077e+00,  6.4453e+00,  6.2366e-01,  9.1341e+00,  2.3456e+00,\n",
            "          5.3539e+00, -9.7854e-02,  4.0854e+00,  1.0709e+00,  3.3138e+00,\n",
            "         -2.2009e+00,  4.2485e-01, -3.7324e+00, -1.1608e+00, -2.3590e+00,\n",
            "         -6.0575e-01, -1.7669e+00,  9.2922e-01, -8.4145e-01,  2.7149e-01],\n",
            "        [-3.4740e+02,  2.0077e+01, -6.6918e+00,  1.5563e+01,  6.4238e+00,\n",
            "          3.9447e+01,  2.9548e+00,  1.2005e+01, -1.7327e+01,  2.1246e+01,\n",
            "         -8.3279e+00,  9.7619e+00, -7.8662e+00,  4.5501e+00, -1.3450e+00,\n",
            "          1.5988e+01, -4.6837e+00,  7.4792e+00, -7.8667e+00,  8.9616e+00,\n",
            "         -1.7854e+00,  7.7351e+00,  1.1502e+00,  5.4582e+00, -2.3187e+00,\n",
            "          8.0171e+00, -1.0167e+00,  3.5500e+00, -1.1473e+00,  1.1336e+00,\n",
            "         -2.4100e+00,  3.5622e+00, -2.2541e-01,  3.1399e+00, -2.1817e+00,\n",
            "          4.9858e+00, -2.0202e+00,  1.4765e+00, -2.0195e+00,  3.0238e+00],\n",
            "        [-5.2618e+02,  1.1982e+02,  1.2033e+01,  3.7910e+01,  1.2885e+00,\n",
            "          2.4677e+01, -5.7788e+00,  1.6896e+01, -9.3753e+00,  1.4971e+01,\n",
            "         -5.5319e+00,  1.3109e+01, -4.2707e+00,  1.1543e+01, -3.0174e+00,\n",
            "          1.0315e+01, -4.9068e+00,  4.2260e+00, -7.3697e+00,  3.6726e+00,\n",
            "         -3.5284e+00,  3.8645e+00, -2.2270e+00,  2.2457e+00, -3.0257e+00,\n",
            "          1.3820e+00, -2.2458e+00,  1.7913e+00, -2.0547e+00,  4.2256e-01,\n",
            "         -3.3390e+00, -1.2932e+00, -3.4400e+00, -1.5972e+00, -2.2981e+00,\n",
            "         -1.1044e+00, -1.6582e+00,  1.9953e-01, -3.9284e-01,  1.2110e+00],\n",
            "        [-4.3367e+02,  1.2754e+02,  2.0806e+01,  3.1044e+01,  6.2881e+00,\n",
            "          2.2859e+01, -2.0579e+00,  1.5478e+01, -5.6860e+00,  1.3342e+01,\n",
            "         -6.1876e+00,  9.3609e+00, -4.9740e+00,  8.4804e+00, -3.8332e+00,\n",
            "          6.6253e+00, -4.5694e+00,  4.3997e+00, -1.1287e+00,  5.4604e+00,\n",
            "         -2.3319e+00,  3.3768e+00, -5.8448e-01,  2.8180e+00, -1.2427e+00,\n",
            "          1.9606e-01, -1.9471e+00, -4.0101e-01, -1.7947e+00, -1.5479e+00,\n",
            "         -1.5049e+00, -9.9134e-01, -1.6189e+00, -2.5351e+00, -1.8330e+00,\n",
            "         -1.6618e+00, -1.3865e+00, -1.4842e+00, -1.4252e+00, -1.9570e+00]])\n",
            "tensor([0, 1, 0, 0])\n",
            "torch.Size([4, 40])\n"
          ],
          "name": "stdout"
        }
      ]
    },
    {
      "cell_type": "code",
      "metadata": {
        "id": "buJgt0C4RXs5",
        "colab_type": "code",
        "colab": {}
      },
      "source": [
        "from torch import nn\n",
        "import torch.nn.functional as F\n",
        "from torch import optim"
      ],
      "execution_count": null,
      "outputs": []
    },
    {
      "cell_type": "code",
      "metadata": {
        "id": "T7RbZ_C4Sf5d",
        "colab_type": "code",
        "colab": {}
      },
      "source": [
        "# Our network has 40 inputs and 2 outputs\n",
        "# We will create two hidden layers of size 256 and 128\n",
        "class AudioNetwork(nn.Module):\n",
        "  def __init__(self):\n",
        "    super().__init__()\n",
        "\n",
        "    # Create first layer\n",
        "    self.fc1 = nn.Linear(40, 256)\n",
        "    self.fc2 = nn.Linear(256, 128)\n",
        "    self.fc3 = nn.Linear(128,2)\n",
        "\n",
        "    # Dropout module with 0.2 drop probability\n",
        "    self.dropout = nn.Dropout(p = 0.2)\n",
        "\n",
        "  def forward(self,x):\n",
        "      # Hidden layer 1 with sigmoid activation\n",
        "      x = self.fc1(x)\n",
        "      x = F.relu(x)\n",
        "      x = self.dropout(x)\n",
        "      \n",
        "\n",
        "      # Hidden layer 2 with sigmoid activation\n",
        "      x = self.fc2(x)\n",
        "      x = F.relu(x)\n",
        "      x = self.dropout(x)\n",
        "\n",
        "      # Output layer 3 with log softmax activation\n",
        "      x = self.fc3(x)\n",
        "      x = F.log_softmax(x, dim=1)\n",
        "\n",
        "      return x"
      ],
      "execution_count": null,
      "outputs": []
    },
    {
      "cell_type": "code",
      "metadata": {
        "id": "4RAqsD_uWGGh",
        "colab_type": "code",
        "colab": {}
      },
      "source": [
        "model = AudioNetwork()"
      ],
      "execution_count": null,
      "outputs": []
    },
    {
      "cell_type": "code",
      "metadata": {
        "id": "GifMoIjnWIyw",
        "colab_type": "code",
        "colab": {
          "base_uri": "https://localhost:8080/",
          "height": 119
        },
        "outputId": "bd836020-224c-40ee-8333-66779779ffc5"
      },
      "source": [
        "model"
      ],
      "execution_count": null,
      "outputs": [
        {
          "output_type": "execute_result",
          "data": {
            "text/plain": [
              "AudioNetwork(\n",
              "  (fc1): Linear(in_features=40, out_features=256, bias=True)\n",
              "  (fc2): Linear(in_features=256, out_features=128, bias=True)\n",
              "  (fc3): Linear(in_features=128, out_features=2, bias=True)\n",
              "  (dropout): Dropout(p=0.2, inplace=False)\n",
              ")"
            ]
          },
          "metadata": {
            "tags": []
          },
          "execution_count": 81
        }
      ]
    },
    {
      "cell_type": "code",
      "metadata": {
        "id": "oqSIcEgkWKYn",
        "colab_type": "code",
        "colab": {
          "base_uri": "https://localhost:8080/",
          "height": 391
        },
        "outputId": "e09ca12a-9d6d-45d8-866a-4cbb9994dfb6"
      },
      "source": [
        "criterion = nn.NLLLoss()\n",
        "optimizer = optim.Adam(model.parameters(), lr=0.001)\n",
        "\n",
        "dataiter = iter(trainloader)\n",
        "audio, label = dataiter.next()\n",
        "\n",
        "# Forward Pass\n",
        "log_ps = model(audio)\n",
        "ps = torch.exp(log_ps)\n",
        "print(label)\n",
        "print(ps.topk(1))\n",
        "\n",
        "# Calculate Loss\n",
        "loss = criterion(log_ps, label)\n",
        "print(loss)\n",
        "\n",
        "# Gradient descent\n",
        "# loss.backward computes derivative (dloss/dx)\n",
        "loss.backward()\n",
        "optimizer.step()\n",
        "\n",
        "# Clear Gradients prior to a new pass\n",
        "optimizer.zero_grad()\n",
        "\n",
        "# Forward Pass \n",
        "log_ps = model(audio)\n",
        "ps = torch.exp(log_ps)\n",
        "print(label)\n",
        "print(ps.topk(1))\n",
        "\n",
        "loss = criterion(log_ps, label)\n",
        "print(loss)\n",
        "\n",
        "loss.backward()\n",
        "optimizer.step()\n"
      ],
      "execution_count": null,
      "outputs": [
        {
          "output_type": "stream",
          "text": [
            "tensor([0, 0, 1, 1])\n",
            "torch.return_types.topk(\n",
            "values=tensor([[0.9959],\n",
            "        [0.9993],\n",
            "        [0.5074],\n",
            "        [0.9924]], grad_fn=<TopkBackward>),\n",
            "indices=tensor([[1],\n",
            "        [1],\n",
            "        [1],\n",
            "        [0]]))\n",
            "tensor(4.5904, grad_fn=<NllLossBackward>)\n",
            "tensor([0, 0, 1, 1])\n",
            "torch.return_types.topk(\n",
            "values=tensor([[0.9307],\n",
            "        [0.9817],\n",
            "        [0.7589],\n",
            "        [0.9615]], grad_fn=<TopkBackward>),\n",
            "indices=tensor([[0],\n",
            "        [0],\n",
            "        [0],\n",
            "        [1]]))\n",
            "tensor(0.3881, grad_fn=<NllLossBackward>)\n"
          ],
          "name": "stdout"
        }
      ]
    },
    {
      "cell_type": "code",
      "metadata": {
        "id": "apnhWWLHXAqV",
        "colab_type": "code",
        "colab": {
          "base_uri": "https://localhost:8080/",
          "height": 442
        },
        "outputId": "43bf63ec-9df3-412e-ee5f-f54f242512ff"
      },
      "source": [
        "model = AudioNetwork()\n",
        "# criterion = nn.CrossEntropyLoss()\n",
        "# optimizer = optim.SGD(model.parameters(), lr=0.005)\n",
        "criterion = nn.NLLLoss()\n",
        "optimizer = optim.Adam(model.parameters(), lr=0.001)\n",
        "\n",
        "epochs = 25\n",
        "steps = 0\n",
        "\n",
        "train_losses, test_losses = [], []\n",
        "for e in range(epochs):\n",
        "    running_loss = 0\n",
        "    for audios, labels in trainloader:\n",
        "        \n",
        "        optimizer.zero_grad()\n",
        "        \n",
        "        log_ps = model(audios)\n",
        "        loss = criterion(log_ps, labels)\n",
        "        loss.backward()\n",
        "        optimizer.step()\n",
        "        \n",
        "        running_loss += loss.item()\n",
        "        \n",
        "    else:\n",
        "        test_loss = 0\n",
        "        accuracy = 0\n",
        "        \n",
        "        # Turn off gradients for validation, saves memory and computations\n",
        "        with torch.no_grad():\n",
        "            for images, labels in testloader:\n",
        "                log_ps = model(images)\n",
        "                test_loss += criterion(log_ps, labels)\n",
        "                \n",
        "                ps = torch.exp(log_ps)\n",
        "                top_p, top_class = ps.topk(1, dim=1)\n",
        "                equals = top_class == labels.view(*top_class.shape)\n",
        "                accuracy += torch.mean(equals.type(torch.FloatTensor))\n",
        "                \n",
        "        train_losses.append(running_loss/len(trainloader))\n",
        "        test_losses.append(test_loss/len(testloader))\n",
        "\n",
        "        print(\"Epoch: {}/{}.. \".format(e+1, epochs),\n",
        "              \"Training Loss: {:.3f}.. \".format(running_loss/len(trainloader)),\n",
        "              \"Test Loss: {:.3f}.. \".format(test_loss/len(testloader)),\n",
        "              \"Test Accuracy: {:.3f}\".format(accuracy/len(testloader)))\n"
      ],
      "execution_count": null,
      "outputs": [
        {
          "output_type": "stream",
          "text": [
            "Epoch: 1/25..  Training Loss: 2.437..  Test Loss: 1.283..  Test Accuracy: 0.700\n",
            "Epoch: 2/25..  Training Loss: 1.013..  Test Loss: 2.444..  Test Accuracy: 0.700\n",
            "Epoch: 3/25..  Training Loss: 0.943..  Test Loss: 1.463..  Test Accuracy: 0.700\n",
            "Epoch: 4/25..  Training Loss: 0.837..  Test Loss: 0.290..  Test Accuracy: 0.867\n",
            "Epoch: 5/25..  Training Loss: 0.647..  Test Loss: 0.539..  Test Accuracy: 0.833\n",
            "Epoch: 6/25..  Training Loss: 0.407..  Test Loss: 0.423..  Test Accuracy: 0.817\n",
            "Epoch: 7/25..  Training Loss: 0.401..  Test Loss: 0.399..  Test Accuracy: 0.800\n",
            "Epoch: 8/25..  Training Loss: 0.504..  Test Loss: 0.306..  Test Accuracy: 0.867\n",
            "Epoch: 9/25..  Training Loss: 0.391..  Test Loss: 0.408..  Test Accuracy: 0.850\n",
            "Epoch: 10/25..  Training Loss: 0.340..  Test Loss: 0.318..  Test Accuracy: 0.867\n",
            "Epoch: 11/25..  Training Loss: 0.323..  Test Loss: 0.460..  Test Accuracy: 0.900\n",
            "Epoch: 12/25..  Training Loss: 0.319..  Test Loss: 0.329..  Test Accuracy: 0.867\n",
            "Epoch: 13/25..  Training Loss: 0.286..  Test Loss: 0.320..  Test Accuracy: 0.867\n",
            "Epoch: 14/25..  Training Loss: 0.255..  Test Loss: 0.350..  Test Accuracy: 0.833\n",
            "Epoch: 15/25..  Training Loss: 0.373..  Test Loss: 0.337..  Test Accuracy: 0.850\n",
            "Epoch: 16/25..  Training Loss: 0.286..  Test Loss: 0.286..  Test Accuracy: 0.900\n",
            "Epoch: 17/25..  Training Loss: 0.234..  Test Loss: 0.504..  Test Accuracy: 0.833\n",
            "Epoch: 18/25..  Training Loss: 0.291..  Test Loss: 0.253..  Test Accuracy: 0.883\n",
            "Epoch: 19/25..  Training Loss: 0.272..  Test Loss: 0.259..  Test Accuracy: 0.867\n",
            "Epoch: 20/25..  Training Loss: 0.316..  Test Loss: 0.302..  Test Accuracy: 0.867\n",
            "Epoch: 21/25..  Training Loss: 0.234..  Test Loss: 0.223..  Test Accuracy: 0.917\n",
            "Epoch: 22/25..  Training Loss: 0.248..  Test Loss: 0.292..  Test Accuracy: 0.883\n",
            "Epoch: 23/25..  Training Loss: 0.277..  Test Loss: 0.264..  Test Accuracy: 0.883\n",
            "Epoch: 24/25..  Training Loss: 0.198..  Test Loss: 0.189..  Test Accuracy: 0.933\n",
            "Epoch: 25/25..  Training Loss: 0.289..  Test Loss: 0.285..  Test Accuracy: 0.883\n"
          ],
          "name": "stdout"
        }
      ]
    },
    {
      "cell_type": "code",
      "metadata": {
        "id": "Rul9-hy_rUF2",
        "colab_type": "code",
        "colab": {}
      },
      "source": [
        "%matplotlib inline\n",
        "%config InlineBackend.figure_format = 'retina'\n",
        "\n",
        "import matplotlib.pyplot as plt"
      ],
      "execution_count": null,
      "outputs": []
    },
    {
      "cell_type": "code",
      "metadata": {
        "id": "4Ct1uDUWr7gC",
        "colab_type": "code",
        "colab": {
          "base_uri": "https://localhost:8080/",
          "height": 282
        },
        "outputId": "89704330-7d80-4bda-fdd2-7e43faf027ff"
      },
      "source": [
        "plt.plot(train_losses, label = 'Training loss')\n",
        "plt.plot(test_losses, label = 'Validation loss')\n",
        "plt.legend(frameon = False)"
      ],
      "execution_count": null,
      "outputs": [
        {
          "output_type": "execute_result",
          "data": {
            "text/plain": [
              "<matplotlib.legend.Legend at 0x7f3b9bb41e48>"
            ]
          },
          "metadata": {
            "tags": []
          },
          "execution_count": 94
        },
        {
          "output_type": "display_data",
          "data": {
            "image/png": "[encoded data removed]",
            "text/plain": [
              "<Figure size 432x288 with 1 Axes>"
            ]
          },
          "metadata": {
            "tags": [],
            "image/png": {
              "width": 375,
              "height": 248
            },
            "needs_background": "light"
          }
        }
      ]
    },
    {
      "cell_type": "code",
      "metadata": {
        "id": "ZzGODq5dsDNR",
        "colab_type": "code",
        "colab": {
          "base_uri": "https://localhost:8080/",
          "height": 187
        },
        "outputId": "5ded0e2d-21aa-4dab-d05d-8158ae05c12a"
      },
      "source": [
        "dataiter = iter(testloader)\n",
        "audio, label = dataiter.next()\n",
        "\n",
        "with torch.no_grad():\n",
        "  log_ps = model.forward(audio)\n",
        "\n",
        "ps = torch.exp(log_ps)\n",
        "print(label)\n",
        "print(ps.topk(1))"
      ],
      "execution_count": null,
      "outputs": [
        {
          "output_type": "stream",
          "text": [
            "tensor([0, 1, 0, 1])\n",
            "torch.return_types.topk(\n",
            "values=tensor([[0.9977],\n",
            "        [0.8387],\n",
            "        [0.9992],\n",
            "        [0.9726]]),\n",
            "indices=tensor([[0],\n",
            "        [0],\n",
            "        [0],\n",
            "        [1]]))\n"
          ],
          "name": "stdout"
        }
      ]
    },
    {
      "cell_type": "code",
      "metadata": {
        "id": "RdCQEX9RupkS",
        "colab_type": "code",
        "colab": {}
      },
      "source": [
        "torch.save(model.state_dict(), os.path.join(BASEDIR, 'zayd_model.pk1'))"
      ],
      "execution_count": null,
      "outputs": []
    },
    {
      "cell_type": "code",
      "metadata": {
        "id": "Av_yZmD9vHSH",
        "colab_type": "code",
        "colab": {}
      },
      "source": [
        "model2 = AudioNetwork()"
      ],
      "execution_count": null,
      "outputs": []
    },
    {
      "cell_type": "code",
      "metadata": {
        "id": "waMvX1RqvJi-",
        "colab_type": "code",
        "colab": {}
      },
      "source": [
        "state_dict = torch.load(os.path.join(BASEDIR, 'zayd_model.pk1'))"
      ],
      "execution_count": null,
      "outputs": []
    },
    {
      "cell_type": "code",
      "metadata": {
        "id": "n2z3oP_gvMxD",
        "colab_type": "code",
        "colab": {
          "base_uri": "https://localhost:8080/",
          "height": 34
        },
        "outputId": "d25116e8-e5e5-4017-d7f3-64785772b81a"
      },
      "source": [
        "model2.load_state_dict(state_dict)"
      ],
      "execution_count": null,
      "outputs": [
        {
          "output_type": "execute_result",
          "data": {
            "text/plain": [
              "<All keys matched successfully>"
            ]
          },
          "metadata": {
            "tags": []
          },
          "execution_count": 108
        }
      ]
    },
    {
      "cell_type": "code",
      "metadata": {
        "id": "h_wRon52vQRk",
        "colab_type": "code",
        "colab": {
          "base_uri": "https://localhost:8080/",
          "height": 187
        },
        "outputId": "c40b9661-606f-4ad8-9768-5acfd361fc3e"
      },
      "source": [
        "dataiter = iter(testloader)\n",
        "audio, label = dataiter.next()\n",
        "\n",
        "with torch.no_grad():\n",
        "  log_ps = model2.forward(audio)\n",
        "\n",
        "ps = torch.exp(log_ps)\n",
        "print(label)\n",
        "print(ps.topk(1))"
      ],
      "execution_count": null,
      "outputs": [
        {
          "output_type": "stream",
          "text": [
            "tensor([0, 1, 0, 1])\n",
            "torch.return_types.topk(\n",
            "values=tensor([[0.9979],\n",
            "        [0.9607],\n",
            "        [0.9944],\n",
            "        [1.0000]]),\n",
            "indices=tensor([[0],\n",
            "        [1],\n",
            "        [0],\n",
            "        [1]]))\n"
          ],
          "name": "stdout"
        }
      ]
    },
    {
      "cell_type": "code",
      "metadata": {
        "id": "oJqYr_opwAgq",
        "colab_type": "code",
        "colab": {}
      },
      "source": [
        ""
      ],
      "execution_count": null,
      "outputs": []
    }
  ]
}